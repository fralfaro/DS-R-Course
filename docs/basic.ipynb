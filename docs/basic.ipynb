{
  "cells": [
    {
      "cell_type": "markdown",
      "metadata": {
        "id": "i1Sf0c1PyQsB"
      },
      "source": [
        "<a href=\"https://colab.research.google.com/github/fralfaro/DS-R-Course/blob/main/docs/basic.ipynb\" target=\"_parent\"><img src=\"https://colab.research.google.com/assets/colab-badge.svg\" alt=\"Open In Colab\"/></a>\n",
        "\n",
        "# Nomenclatura"
      ]
    },
    {
      "cell_type": "markdown",
      "metadata": {
        "id": "yrsPdyIWjqSC"
      },
      "source": [
        "## Hola mundo!\n",
        "\n",
        "\n",
        "Para imprimir \"Hola mundo\" en R, puedes utilizar la función print() o simplemente escribir el texto entre comillas y presionar Enter. Aquí tienes dos formas de hacerlo:\n"
      ]
    },
    {
      "cell_type": "code",
      "source": [
        "print(\"Hola mundo\")"
      ],
      "metadata": {
        "id": "oAO1bDbmjsX4",
        "outputId": "defc5302-1995-4567-c919-f53e29f80242",
        "colab": {
          "base_uri": "https://localhost:8080/"
        }
      },
      "execution_count": 1,
      "outputs": [
        {
          "output_type": "stream",
          "name": "stdout",
          "text": [
            "[1] \"Hola mundo\"\n"
          ]
        }
      ]
    },
    {
      "cell_type": "markdown",
      "source": [
        "> **Nota**:  Recuerda que en R, puedes utilizar las funciones `print()` o `cat()` para imprimir los resultados en la consola."
      ],
      "metadata": {
        "id": "SRCJbKFdkbBT"
      }
    },
    {
      "cell_type": "markdown",
      "metadata": {
        "id": "VCQTkOu4jqSD"
      },
      "source": [
        "## Tipos de Variables\n",
        "\n",
        "\n",
        "En R, existen varios tipos de variables que puedes utilizar para almacenar diferentes tipos de datos. Aquí hay algunos de los tipos de variables más comunes en R:\n",
        "\n",
        "1.- `Numeric`: Las variables de tipo \"numeric\" almacenan valores numéricos, ya sean enteros o números de punto flotante (decimales). Puedes identificar una variable como numérica si sus valores son números. Por ejemplo:\n"
      ]
    },
    {
      "cell_type": "code",
      "source": [
        "# Variables numéricas\n",
        "edad <- 25\n",
        "pi <- 3.14159\n",
        "\n",
        "cat(\"Edad:\", edad, \"\\n\")\n",
        "cat(\"Valor de pi:\", pi, \"\\n\\n\")"
      ],
      "metadata": {
        "id": "Tb15Tp-5kQiE",
        "outputId": "7592961e-4af1-47e1-e1ac-c8a5dc0f151b",
        "colab": {
          "base_uri": "https://localhost:8080/"
        }
      },
      "execution_count": 2,
      "outputs": [
        {
          "output_type": "stream",
          "name": "stdout",
          "text": [
            "Edad: 25 \n",
            "Valor de pi: 3.14159 \n",
            "\n"
          ]
        }
      ]
    },
    {
      "cell_type": "markdown",
      "source": [
        "\n",
        "2.- `Integer`: Las variables de tipo \"integer\" almacenan números enteros. A diferencia de las variables \"numeric\", las variables \"integer\" solo pueden almacenar números enteros sin decimales. Para identificar una variable como entera, puedes utilizar la función is.integer(). Por ejemplo:\n"
      ],
      "metadata": {
        "id": "MUuQblkrkGkU"
      }
    },
    {
      "cell_type": "code",
      "source": [
        "# Variables enteras\n",
        "numero_entero <- 10L\n",
        "is_integer_result <- is.integer(numero_entero)\n",
        "\n",
        "cat(\"Número entero:\", numero_entero, \"\\n\")\n",
        "cat(\"¿Es entero? \", is_integer_result, \"\\n\\n\")"
      ],
      "metadata": {
        "id": "HUzfFcEPkgkn",
        "outputId": "85b1ae97-db2c-47a4-e383-9a949f82f5c1",
        "colab": {
          "base_uri": "https://localhost:8080/"
        }
      },
      "execution_count": 3,
      "outputs": [
        {
          "output_type": "stream",
          "name": "stdout",
          "text": [
            "Número entero: 10 \n",
            "¿Es entero?  TRUE \n",
            "\n"
          ]
        }
      ]
    },
    {
      "cell_type": "markdown",
      "source": [
        "\n",
        "3.- `Character`: Las variables de tipo \"character\" almacenan cadenas de texto. Puedes identificar una variable como de tipo \"character\" si los valores están entre comillas (simples o dobles). Por ejemplo:\n"
      ],
      "metadata": {
        "id": "zpZbyplJkIk-"
      }
    },
    {
      "cell_type": "code",
      "source": [
        "# Variables de caracteres\n",
        "nombre <- \"Juan\"\n",
        "mensaje <- 'Hola, ¿cómo estás?'\n",
        "\n",
        "cat(\"Nombre:\", nombre, \"\\n\")\n",
        "cat(\"Mensaje:\", mensaje, \"\\n\\n\")"
      ],
      "metadata": {
        "id": "mIWynSJvklHe",
        "outputId": "1f0b7256-762f-4a3a-bf75-6bd3b5882c11",
        "colab": {
          "base_uri": "https://localhost:8080/"
        }
      },
      "execution_count": 4,
      "outputs": [
        {
          "output_type": "stream",
          "name": "stdout",
          "text": [
            "Nombre: Juan \n",
            "Mensaje: Hola, ¿cómo estás? \n",
            "\n"
          ]
        }
      ]
    },
    {
      "cell_type": "markdown",
      "source": [
        "\n",
        "4.- `Logical`: Las variables de tipo \"logical\" almacenan valores lógicos, es decir, valores booleanos que pueden ser TRUE (verdadero) o FALSE (falso). Puedes identificar una variable como de tipo \"logical\" si sus valores son TRUE o FALSE. Por ejemplo:\n"
      ],
      "metadata": {
        "id": "ZyEKS09nkKMU"
      }
    },
    {
      "cell_type": "code",
      "source": [
        "# Variables lógicas\n",
        "es_mayor_de_edad <- TRUE\n",
        "es_estudiante <- FALSE\n",
        "\n",
        "cat(\"¿Es mayor de edad?:\", es_mayor_de_edad, \"\\n\")\n",
        "cat(\"¿Es estudiante?:\", es_estudiante, \"\\n\\n\")"
      ],
      "metadata": {
        "id": "mg-5oQDikoFy",
        "outputId": "f6d82cca-70a5-494b-82e6-014cef9364e4",
        "colab": {
          "base_uri": "https://localhost:8080/"
        }
      },
      "execution_count": 5,
      "outputs": [
        {
          "output_type": "stream",
          "name": "stdout",
          "text": [
            "¿Es mayor de edad?: TRUE \n",
            "¿Es estudiante?: FALSE \n",
            "\n"
          ]
        }
      ]
    },
    {
      "cell_type": "markdown",
      "source": [
        "\n",
        "\n",
        "Puedes utilizar funciones como `class()` y `typeof()` para obtener información sobre el tipo de una variable en R. Por ejemplo:\n"
      ],
      "metadata": {
        "id": "8pX4WUVCkLQL"
      }
    },
    {
      "cell_type": "code",
      "source": [
        "# Obtener información sobre el tipo de variable\n",
        "x <- 10\n",
        "class_result <- class(x)\n",
        "typeof_result <- typeof(x)\n",
        "\n",
        "cat(\"Clase de la variable x:\", class_result, \"\\n\")\n",
        "cat(\"Tipo subyacente de la variable x:\", typeof_result, \"\\n\")"
      ],
      "metadata": {
        "id": "0uiUoJ0_kqu3",
        "outputId": "5a0b601c-7a6c-4a7a-fa18-d28b4ba725f7",
        "colab": {
          "base_uri": "https://localhost:8080/"
        }
      },
      "execution_count": 6,
      "outputs": [
        {
          "output_type": "stream",
          "name": "stdout",
          "text": [
            "Clase de la variable x: numeric \n",
            "Tipo subyacente de la variable x: double \n"
          ]
        }
      ]
    },
    {
      "cell_type": "markdown",
      "source": [
        "\n",
        "Recuerda que en R, las variables son flexibles y pueden cambiar de tipo según los valores que les asignes. También puedes convertir una variable de un tipo a otro utilizando funciones específicas, como `as.numeric()`, `as.character()`, `as.logical()`, etc."
      ],
      "metadata": {
        "id": "7fc8KdIRkODI"
      }
    },
    {
      "cell_type": "markdown",
      "metadata": {
        "id": "go0VbAhqjqSD"
      },
      "source": [
        "## Operaciones Básicas\n",
        "\n",
        "En R, puedes realizar una variedad de operaciones básicas con diferentes tipos de datos. Aquí tienes ejemplos de algunas operaciones comunes:\n",
        "\n",
        "1.- **Operaciones aritméticas básicas**:\n"
      ]
    },
    {
      "cell_type": "code",
      "source": [
        "x <- 5\n",
        "y <- 3\n",
        "\n",
        "suma <- x + y\n",
        "resta <- x - y\n",
        "multiplicacion <- x * y\n",
        "division <- x / y\n",
        "exponenciacion <- x^y\n",
        "\n",
        "cat(\"Resultado de la suma:\", suma, \"\\n\")\n",
        "cat(\"Resultado de la resta:\", resta, \"\\n\")\n",
        "cat(\"Resultado de la multiplicación:\", multiplicacion, \"\\n\")\n",
        "cat(\"Resultado de la división:\", division, \"\\n\")\n",
        "cat(\"Resultado de la exponenciación:\", exponenciacion, \"\\n\")"
      ],
      "metadata": {
        "id": "6dq1eonulaJ4",
        "outputId": "2e0e65eb-c007-4599-9ab4-2f1f9ddcd96f",
        "colab": {
          "base_uri": "https://localhost:8080/"
        }
      },
      "execution_count": 7,
      "outputs": [
        {
          "output_type": "stream",
          "name": "stdout",
          "text": [
            "Resultado de la suma: 8 \n",
            "Resultado de la resta: 2 \n",
            "Resultado de la multiplicación: 15 \n",
            "Resultado de la división: 1.666667 \n",
            "Resultado de la exponenciación: 125 \n"
          ]
        }
      ]
    },
    {
      "cell_type": "markdown",
      "metadata": {
        "id": "I2VMPyMEjqSE"
      },
      "source": [
        "2.- **Operaciones de comparación**:\n",
        "\n",
        "**Igualdad**: Utiliza el operador \"==\" para comprobar si dos valores son iguales.\n"
      ]
    },
    {
      "cell_type": "code",
      "source": [
        "5 == 3  # Resultado: FALSE"
      ],
      "metadata": {
        "id": "m5JIVh3NlcBa",
        "outputId": "7db8e505-048c-4ef1-f38b-6490c635261c",
        "colab": {
          "base_uri": "https://localhost:8080/",
          "height": 34
        }
      },
      "execution_count": 8,
      "outputs": [
        {
          "output_type": "display_data",
          "data": {
            "text/html": [
              "FALSE"
            ],
            "text/markdown": "FALSE",
            "text/latex": "FALSE",
            "text/plain": [
              "[1] FALSE"
            ]
          },
          "metadata": {}
        }
      ]
    },
    {
      "cell_type": "markdown",
      "source": [
        "\n",
        "**Desigualdad**: Utiliza el operador \"!=\" para comprobar si dos valores son diferentes.\n"
      ],
      "metadata": {
        "id": "rOZL5lNzkzkS"
      }
    },
    {
      "cell_type": "code",
      "source": [
        "5 != 3  # Resultado: TRUE"
      ],
      "metadata": {
        "id": "HnVTk4K1lebR",
        "outputId": "890ffdf5-b821-4f50-edd3-9762e15c6d3f",
        "colab": {
          "base_uri": "https://localhost:8080/",
          "height": 34
        }
      },
      "execution_count": 9,
      "outputs": [
        {
          "output_type": "display_data",
          "data": {
            "text/html": [
              "TRUE"
            ],
            "text/markdown": "TRUE",
            "text/latex": "TRUE",
            "text/plain": [
              "[1] TRUE"
            ]
          },
          "metadata": {}
        }
      ]
    },
    {
      "cell_type": "markdown",
      "source": [
        "\n",
        "**Mayor que, menor que**: Utiliza los operadores \">\" y \"<\" para comparar si un valor es mayor o menor que otro.\n"
      ],
      "metadata": {
        "id": "Rc0fkYVqk1E7"
      }
    },
    {
      "cell_type": "code",
      "source": [
        "5 > 3  # Resultado: TRUE\n",
        "5 < 3  # Resultado: FALSE"
      ],
      "metadata": {
        "id": "ovLPtq3IlhcK",
        "outputId": "606f97e4-f5f7-4efd-c363-b300f93de4bf",
        "colab": {
          "base_uri": "https://localhost:8080/",
          "height": 52
        }
      },
      "execution_count": 10,
      "outputs": [
        {
          "output_type": "display_data",
          "data": {
            "text/html": [
              "TRUE"
            ],
            "text/markdown": "TRUE",
            "text/latex": "TRUE",
            "text/plain": [
              "[1] TRUE"
            ]
          },
          "metadata": {}
        },
        {
          "output_type": "display_data",
          "data": {
            "text/html": [
              "FALSE"
            ],
            "text/markdown": "FALSE",
            "text/latex": "FALSE",
            "text/plain": [
              "[1] FALSE"
            ]
          },
          "metadata": {}
        }
      ]
    },
    {
      "cell_type": "markdown",
      "source": [
        "\n",
        "**Mayor o igual que, menor o igual que**: Utiliza los operadores \">=\" y \"<=\" para comparar si un valor es mayor o igual que otro, o menor o igual que otro.\n"
      ],
      "metadata": {
        "id": "TiQYETylk2wi"
      }
    },
    {
      "cell_type": "code",
      "source": [
        "5 >= 3  # Resultado: TRUE\n",
        "5 <= 3  # Resultado: FALSE"
      ],
      "metadata": {
        "id": "rOYY-sFEljgV",
        "outputId": "81e1dfde-0a76-4047-9ba0-410d6b8f9a94",
        "colab": {
          "base_uri": "https://localhost:8080/",
          "height": 52
        }
      },
      "execution_count": 11,
      "outputs": [
        {
          "output_type": "display_data",
          "data": {
            "text/html": [
              "TRUE"
            ],
            "text/markdown": "TRUE",
            "text/latex": "TRUE",
            "text/plain": [
              "[1] TRUE"
            ]
          },
          "metadata": {}
        },
        {
          "output_type": "display_data",
          "data": {
            "text/html": [
              "FALSE"
            ],
            "text/markdown": "FALSE",
            "text/latex": "FALSE",
            "text/plain": [
              "[1] FALSE"
            ]
          },
          "metadata": {}
        }
      ]
    },
    {
      "cell_type": "markdown",
      "metadata": {
        "id": "2eKeUou4jqSE"
      },
      "source": [
        "3.- **Operaciones lógicas**:\n",
        "\n",
        "**Y lógico**: Utiliza el operador \"&\" para comprobar si dos condiciones son verdaderas.\n"
      ]
    },
    {
      "cell_type": "code",
      "source": [
        "(5 > 3) & (2 < 4)  # Resultado: TRUE"
      ],
      "metadata": {
        "id": "RtZ8H6tkllpr",
        "outputId": "552e10c7-b055-4ed6-e530-e392ca6c2ee6",
        "colab": {
          "base_uri": "https://localhost:8080/",
          "height": 34
        }
      },
      "execution_count": 12,
      "outputs": [
        {
          "output_type": "display_data",
          "data": {
            "text/html": [
              "TRUE"
            ],
            "text/markdown": "TRUE",
            "text/latex": "TRUE",
            "text/plain": [
              "[1] TRUE"
            ]
          },
          "metadata": {}
        }
      ]
    },
    {
      "cell_type": "markdown",
      "metadata": {
        "id": "h5EtPouQjqSE"
      },
      "source": [
        "## Estructuras de Datos\n",
        "\n",
        "R proporciona varias estructuras de datos para almacenar y manipular datos. Algunas de las principales estructuras de datos en R son las siguientes:\n",
        "\n",
        "1.- **Vector**: Un vector es una secuencia ordenada de elementos del mismo tipo. Puede ser de tipo numérico, entero, caracter, lógico, etc. Los elementos se pueden acceder utilizando índices.\n",
        "\n"
      ]
    },
    {
      "cell_type": "code",
      "source": [
        "vector_numerico <- c(1, 2, 3, 4, 5)\n",
        "vector_caracteres <- c(\"a\", \"b\", \"c\", \"d\")"
      ],
      "metadata": {
        "id": "AtQaivBblnxY"
      },
      "execution_count": 13,
      "outputs": []
    },
    {
      "cell_type": "markdown",
      "source": [
        "\n",
        "2.- **Matriz**: Una matriz es una estructura bidimensional de elementos del mismo tipo. Se puede pensar como una tabla con filas y columnas, donde todos los elementos son del mismo tipo.\n"
      ],
      "metadata": {
        "id": "0ZQQSl6Rk7Nn"
      }
    },
    {
      "cell_type": "code",
      "source": [
        "matriz <- matrix(c(1, 2, 3, 4, 5, 6), nrow = 2, ncol = 3)"
      ],
      "metadata": {
        "id": "Npad6CRDlpvQ"
      },
      "execution_count": 14,
      "outputs": []
    },
    {
      "cell_type": "markdown",
      "source": [
        "\n",
        "3.- **DataFrame**: Un DataFrame es similar a una matriz, pero las columnas pueden tener diferentes tipos de datos. Se utiliza comúnmente para almacenar datos tabulares, donde cada columna representa una variable y cada fila representa una observación.\n"
      ],
      "metadata": {
        "id": "ckq74-gXk83H"
      }
    },
    {
      "cell_type": "code",
      "source": [
        "data_frame <- data.frame(nombre = c(\"Juan\", \"María\", \"Carlos\"),\n",
        "                         edad = c(25, 30, 35),\n",
        "                         sexo = c(\"M\", \"F\", \"M\"))"
      ],
      "metadata": {
        "id": "Jb_DSsrQlr3L"
      },
      "execution_count": 15,
      "outputs": []
    },
    {
      "cell_type": "markdown",
      "source": [
        "\n",
        "4.- **Lista**: Una lista es una colección ordenada de elementos que pueden ser de diferentes tipos. Cada elemento de la lista se puede acceder utilizando su nombre o índice."
      ],
      "metadata": {
        "id": "kQ6E3woUk-Xx"
      }
    },
    {
      "cell_type": "code",
      "source": [
        "lista <- list(nombre = \"Juan\", edad = 25, sexo = \"M\")"
      ],
      "metadata": {
        "id": "3Lvs_yyeltci"
      },
      "execution_count": 16,
      "outputs": []
    },
    {
      "cell_type": "markdown",
      "source": [
        "\n",
        "5.- **Factor**: Un factor se utiliza para representar variables categóricas o de factores. Es una estructura especializada que toma valores de un conjunto fijo de niveles.\n"
      ],
      "metadata": {
        "id": "YlkV3DOTk_Nk"
      }
    },
    {
      "cell_type": "code",
      "source": [
        "genero <- factor(c(\"M\", \"F\", \"M\", \"F\"))"
      ],
      "metadata": {
        "id": "ymiqFoptlv58"
      },
      "execution_count": 17,
      "outputs": []
    },
    {
      "cell_type": "markdown",
      "metadata": {
        "id": "DKiiNWDUjqSF"
      },
      "source": [
        "## Control de Flujo\n",
        "\n",
        "En R, el control de flujo se refiere a la capacidad de dirigir el flujo de ejecución del código en función de condiciones y estructuras lógicas. Aquí tienes algunas de las principales estructuras de control de flujo en R:\n",
        "\n",
        "1.- **Estructura if-else**: Esta estructura permite ejecutar diferentes bloques de código según una condición.\n",
        "\n",
        "```R\n",
        "if (condicion) {\n",
        "  # código a ejecutar si la condición es verdadera\n",
        "} else {\n",
        "  # código a ejecutar si la condición es falsa\n",
        "}\n",
        "```\n",
        "\n",
        "Por ejemplo:\n"
      ]
    },
    {
      "cell_type": "code",
      "source": [
        "x <- 5\n",
        "if (x > 0) {\n",
        "  print(\"x es positivo\")\n",
        "} else {\n",
        "  print(\"x es negativo o cero\")\n",
        "}"
      ],
      "metadata": {
        "id": "Fx_d6TG5lx4Y",
        "outputId": "dbcfe5b5-03d9-4f52-88dd-b4cfab01af57",
        "colab": {
          "base_uri": "https://localhost:8080/"
        }
      },
      "execution_count": 18,
      "outputs": [
        {
          "output_type": "stream",
          "name": "stdout",
          "text": [
            "[1] \"x es positivo\"\n"
          ]
        }
      ]
    },
    {
      "cell_type": "markdown",
      "source": [
        "\n",
        "2.- **Estructura for**: Se utiliza para iterar sobre una secuencia de valores o elementos de una estructura de datos.\n",
        "\n",
        "\n",
        "```R\n",
        "for (variable in secuencia) {\n",
        "  # código a ejecutar en cada iteración\n",
        "}\n",
        "```\n",
        "\n",
        "Por ejemplo:\n",
        "\n"
      ],
      "metadata": {
        "id": "zI8Ge1MxlD5z"
      }
    },
    {
      "cell_type": "code",
      "source": [
        "for (i in 1:5) {\n",
        "  print(i)\n",
        "}"
      ],
      "metadata": {
        "id": "BZJnp7ralztc",
        "outputId": "1e85e7fe-328e-474e-e500-bee99de864ed",
        "colab": {
          "base_uri": "https://localhost:8080/"
        }
      },
      "execution_count": 19,
      "outputs": [
        {
          "output_type": "stream",
          "name": "stdout",
          "text": [
            "[1] 1\n",
            "[1] 2\n",
            "[1] 3\n",
            "[1] 4\n",
            "[1] 5\n"
          ]
        }
      ]
    },
    {
      "cell_type": "markdown",
      "source": [
        "\n",
        "3.- **Estructura while**: Se utiliza para repetir un bloque de código mientras una condición sea verdadera.\n",
        "\n",
        "\n",
        "```R\n",
        "while (condicion) {\n",
        "  # código a ejecutar mientras la condición sea verdadera\n",
        "}\n",
        "```\n",
        "\n",
        "Por ejemplo:\n"
      ],
      "metadata": {
        "id": "Nj1PY5grlGqp"
      }
    },
    {
      "cell_type": "code",
      "source": [
        "x <- 1\n",
        "while (x <= 5) {\n",
        "  print(x)\n",
        "  x <- x + 1\n",
        "}"
      ],
      "metadata": {
        "id": "hXizuBbKl1jz",
        "outputId": "9c0089d5-71a7-40e6-83b4-70e52f511e7e",
        "colab": {
          "base_uri": "https://localhost:8080/"
        }
      },
      "execution_count": 20,
      "outputs": [
        {
          "output_type": "stream",
          "name": "stdout",
          "text": [
            "[1] 1\n",
            "[1] 2\n",
            "[1] 3\n",
            "[1] 4\n",
            "[1] 5\n"
          ]
        }
      ]
    },
    {
      "cell_type": "markdown",
      "source": [
        "\n",
        "4.- **Estructura repeat**: Se utiliza para crear un bucle infinito que se rompe cuando se cumple una condición específica.\n",
        "\n",
        "\n",
        "```R\n",
        "repeat {\n",
        "  # código a ejecutar en cada iteración\n",
        "  if (condicion) {\n",
        "    break  # rompe el bucle\n",
        "  }\n",
        "}\n",
        "```\n",
        "\n",
        "Por ejemplo:\n",
        "\n"
      ],
      "metadata": {
        "id": "5GQi3h2XlJ4r"
      }
    },
    {
      "cell_type": "code",
      "source": [
        "x <- 1\n",
        "repeat {\n",
        "  print(x)\n",
        "  x <- x + 1\n",
        "  if (x > 5) {\n",
        "    break\n",
        "  }\n",
        "}"
      ],
      "metadata": {
        "id": "inIWBBcAl3rB",
        "outputId": "aecc2795-a3c1-4a50-aef2-e339418ebc14",
        "colab": {
          "base_uri": "https://localhost:8080/"
        }
      },
      "execution_count": 21,
      "outputs": [
        {
          "output_type": "stream",
          "name": "stdout",
          "text": [
            "[1] 1\n",
            "[1] 2\n",
            "[1] 3\n",
            "[1] 4\n",
            "[1] 5\n"
          ]
        }
      ]
    },
    {
      "cell_type": "markdown",
      "metadata": {
        "id": "EXa86qinjqSF"
      },
      "source": [
        "## Funciones\n",
        "\n",
        "En R, puedes definir y utilizar funciones para encapsular un conjunto de instrucciones y realizar tareas específicas. Aquí tienes los fundamentos de cómo crear y usar funciones en R:\n",
        "\n",
        "1.- **Definir una función**: Para definir una función en R, utiliza la palabra clave function seguida de los parámetros entre paréntesis y las instrucciones entre llaves. Puedes utilizar el operador de asignación <- para asignar la función a un nombre.\n"
      ]
    },
    {
      "cell_type": "markdown",
      "source": [
        "\n",
        "\n",
        "```R\n",
        "nombre_funcion <- function(parametro1, parametro2, ...) {\n",
        "  # código de la función\n",
        "  # return(resultado)  # opcional, si deseas devolver un resultado\n",
        "}\n",
        "```\n",
        "\n",
        "**Llamar a una función**: Para llamar a una función, simplemente escribe el nombre de la función seguido de los argumentos entre paréntesis.\n",
        "\n",
        "\n",
        "```R\n",
        "nombre_funcion(argumento1, argumento2, ...)\n",
        "```\n"
      ],
      "metadata": {
        "id": "78tUS5molOcG"
      }
    },
    {
      "cell_type": "markdown",
      "source": [
        "\n",
        "Ejemplo de una función simple:\n",
        "\n"
      ],
      "metadata": {
        "id": "ko8znZVclPRL"
      }
    },
    {
      "cell_type": "code",
      "source": [
        "# Definir la función\n",
        "sumar <- function(a, b) {\n",
        "  resultado <- a + b\n",
        "  return(resultado)\n",
        "}\n",
        "\n",
        "# Llamar a la función\n",
        "resultado_suma <- sumar(3, 5)\n",
        "print(resultado_suma)  # Imprime: 8"
      ],
      "metadata": {
        "id": "e7Lua-KAl8Vg",
        "outputId": "6efc77ea-6def-4ec1-c13d-68b89f06bfcf",
        "colab": {
          "base_uri": "https://localhost:8080/"
        }
      },
      "execution_count": 22,
      "outputs": [
        {
          "output_type": "stream",
          "name": "stdout",
          "text": [
            "[1] 8\n"
          ]
        }
      ]
    },
    {
      "cell_type": "markdown",
      "source": [
        "\n",
        "2.- **Parámetros predeterminados**: Puedes asignar valores predeterminados a los parámetros de una función. Esto permite que los argumentos sean opcionales cuando se llama a la función.\n",
        "\n"
      ],
      "metadata": {
        "id": "87gm_PUslQzQ"
      }
    },
    {
      "cell_type": "code",
      "source": [
        "saludar <- function(nombre = \"Amigo\") {\n",
        "  mensaje <- paste(\"Hola\", nombre)\n",
        "  print(mensaje)\n",
        "}\n",
        "\n",
        "saludar()  # Imprime: \"Hola Amigo\"\n",
        "saludar(\"Juan\")  # Imprime: \"Hola Juan\""
      ],
      "metadata": {
        "id": "uGxkdj_Wl_Dh",
        "outputId": "20d92275-a08d-46f2-bb97-87134f1e7ff8",
        "colab": {
          "base_uri": "https://localhost:8080/"
        }
      },
      "execution_count": 23,
      "outputs": [
        {
          "output_type": "stream",
          "name": "stdout",
          "text": [
            "[1] \"Hola Amigo\"\n",
            "[1] \"Hola Juan\"\n"
          ]
        }
      ]
    },
    {
      "cell_type": "markdown",
      "source": [
        "\n",
        "3.- **Argumentos nombrados**: Puedes llamar a una función utilizando argumentos nombrados en lugar de posición. Esto proporciona más flexibilidad al especificar los valores de los argumentos.\n"
      ],
      "metadata": {
        "id": "1EyBzrpnlSkd"
      }
    },
    {
      "cell_type": "code",
      "source": [
        "multiplicar <- function(a, b) {\n",
        "  resultado <- a * b\n",
        "  print(resultado)\n",
        "}\n",
        "\n",
        "multiplicar(b = 4, a = 2)  # Imprime: 8"
      ],
      "metadata": {
        "id": "cYt6V4GSmAsh",
        "outputId": "f05129a0-0f07-434f-ce16-1aa66b4d531c",
        "colab": {
          "base_uri": "https://localhost:8080/"
        }
      },
      "execution_count": 24,
      "outputs": [
        {
          "output_type": "stream",
          "name": "stdout",
          "text": [
            "[1] 8\n"
          ]
        }
      ]
    },
    {
      "cell_type": "markdown",
      "source": [
        "\n",
        "4.- **Funciones con múltiples resultados**: Una función en R puede devolver múltiples valores utilizando la función list() para agruparlos.\n"
      ],
      "metadata": {
        "id": "f47ZnEEclTTk"
      }
    },
    {
      "cell_type": "code",
      "source": [
        "calcular_estadisticas <- function(datos) {\n",
        "  media <- mean(datos)\n",
        "  mediana <- median(datos)\n",
        "  varianza <- var(datos)\n",
        "  resultados <- list(media = media, mediana = mediana, varianza = varianza)\n",
        "  return(resultados)\n",
        "}\n",
        "\n",
        "resultados <- calcular_estadisticas(c(1, 2, 3, 4, 5))\n",
        "print(resultados$media)  # Imprime: 3\n",
        "print(resultados$mediana)  # Imprime: 3\n",
        "print(resultados$varianza)  # Imprime: 2.5"
      ],
      "metadata": {
        "id": "wyXN6jQjmC3C",
        "outputId": "fd1f736b-e33c-4682-f782-fc73526e063f",
        "colab": {
          "base_uri": "https://localhost:8080/"
        }
      },
      "execution_count": 25,
      "outputs": [
        {
          "output_type": "stream",
          "name": "stdout",
          "text": [
            "[1] 3\n",
            "[1] 3\n",
            "[1] 2.5\n"
          ]
        }
      ]
    }
  ],
  "metadata": {
    "colab": {
      "provenance": []
    },
    "kernelspec": {
      "display_name": "R",
      "name": "ir"
    },
    "language_info": {
      "name": "R"
    }
  },
  "nbformat": 4,
  "nbformat_minor": 0
}